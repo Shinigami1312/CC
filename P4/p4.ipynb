{
 "cells": [
  {
   "cell_type": "code",
   "execution_count": 2,
   "id": "e44edc6a",
   "metadata": {},
   "outputs": [
    {
     "name": "stdout",
     "output_type": "stream",
     "text": [
      "{'A': ['ABd', 'Aa', 'a'], 'B': ['Be', 'b']}\n",
      "Left recursion present in production of A\n",
      "Left recursion present in production of B\n",
      "\n",
      "Grammar after elimination of recursion : \n",
      "A  ->  aA'\n",
      "B  ->  bB'\n",
      "A'  ->  BdA' | aA' | #\n",
      "B'  ->  eB' | #\n"
     ]
    }
   ],
   "source": [
    "terminals = []\n",
    "nonterminals = []\n",
    "productions = []\n",
    "count = 0\n",
    "with open('pract4.txt','r') as f:\n",
    "    lines = f.readlines()\n",
    "for i in range(len(lines)):\n",
    "    lines[i]=lines[i].strip()\n",
    "for k in lines:\n",
    "    if count ==0:\n",
    "        start_symbol = k[0]\n",
    "    for i in k:\n",
    "        if(i.isupper() and i not in nonterminals):\n",
    "            nonterminals.append(i)\n",
    "        elif(not i.isupper() and i not in ['|','-','>','#'] and i not in terminals):\n",
    "            terminals.append(i)\n",
    "    count+=1\n",
    "    productions.append(k)\n",
    "\n",
    "# enable the dict to hold lists\n",
    "production_dict = {}\n",
    "for nt in nonterminals:\n",
    "    production_dict[nt] = []\n",
    "\n",
    "# split the productions into parts to simplify parsing\n",
    "for production in productions:\n",
    "    nonterminal_to_production = production.split(\"->\")\n",
    "    expanded = nonterminal_to_production[1].split(\"|\") # assumption : single char terminals\n",
    "    for ex in expanded:\n",
    "        production_dict[nonterminal_to_production[0]].append(ex)\n",
    "print(production_dict)\n",
    "\n",
    "grammar,visited = {},[]\n",
    "for k in production_dict.keys():\n",
    "    while True:\n",
    "        temp = []\n",
    "\n",
    "        for v in production_dict[k]:\n",
    "            if v[0] in visited:\n",
    "                temp += [x+v[1:] for x in production_dict[v[0]]]\n",
    "            else: \n",
    "                temp.append(v)\n",
    "\n",
    "        if all([False if x[0] in visited else True for x in temp]):\n",
    "            production_dict[k] = temp\n",
    "            break\n",
    "        production_dict[k] = temp\n",
    "\n",
    "    present = False\n",
    "    for v in production_dict[k]:\n",
    "        if v[0] == k:\n",
    "            print(\"Left recursion present in production of {0}\".format(k))\n",
    "            present = True\n",
    "            break\n",
    "    if present:\n",
    "        temp, grammar[k+\"\\'\"] = [],[]\n",
    "        for v in production_dict[k]:\n",
    "            if v[0]==k:\n",
    "                grammar[k+\"\\'\"].append(v[1:]+k+\"\\'\") \n",
    "            else:\n",
    "                temp.append(v+k+\"\\'\")\n",
    "        grammar[k+\"\\'\"].append(\"#\")\n",
    "        production_dict[k] = temp\n",
    "    visited.append(k)\n",
    "\n",
    "print(\"\\nGrammar after elimination of recursion : \")\n",
    "for k,v in {**production_dict,**grammar}.items():print(k,\" -> \",\" | \".join(v))\n"
   ]
  },
  {
   "cell_type": "code",
   "execution_count": null,
   "id": "54137d5f",
   "metadata": {},
   "outputs": [],
   "source": []
  }
 ],
 "metadata": {
  "kernelspec": {
   "display_name": "Python 3",
   "language": "python",
   "name": "python3"
  },
  "language_info": {
   "codemirror_mode": {
    "name": "ipython",
    "version": 3
   },
   "file_extension": ".py",
   "mimetype": "text/x-python",
   "name": "python",
   "nbconvert_exporter": "python",
   "pygments_lexer": "ipython3",
   "version": "3.8.8"
  }
 },
 "nbformat": 4,
 "nbformat_minor": 5
}
